{
  "nbformat": 4,
  "nbformat_minor": 0,
  "metadata": {
    "colab": {
      "name": "Desafio Técnico - Semantix.ipynb",
      "provenance": [],
      "collapsed_sections": []
    },
    "kernelspec": {
      "name": "python3",
      "display_name": "Python 3"
    }
  },
  "cells": [
    {
      "cell_type": "markdown",
      "metadata": {
        "id": "j-Nve8o7auvb",
        "colab_type": "text"
      },
      "source": [
        "### **Preparação do ambiente para executar Spark no Google Colab**"
      ]
    },
    {
      "cell_type": "code",
      "metadata": {
        "id": "5ttTMO0xXK3U",
        "colab_type": "code",
        "colab": {}
      },
      "source": [
        "# Importar o FindSpark para localizar a instalação do spark e iniciar uma sessão\n",
        "import findspark\n",
        "import pyspark.sql.functions as f\n",
        "from pyspark.sql import SparkSession\n",
        "from pyspark.sql.types import DecimalType\n",
        "findspark.init()\n",
        "spark = SparkSession.builder.master(\"local[*]\").getOrCreate()"
      ],
      "execution_count": 0,
      "outputs": []
    },
    {
      "cell_type": "code",
      "metadata": {
        "id": "Drgw8oEkTiRf",
        "colab_type": "code",
        "colab": {}
      },
      "source": [
        "dfAug = spark.read\\\n",
        "    .format(\"com.databricks.spark.csv\")\\\n",
        "    .option(\"header\", \"false\") \\\n",
        "    .option(\"delimiter\", \" \") \\\n",
        "    .option(\"inferSchema\", \"true\") \\\n",
        "    .load(\"gdrive/My Drive/Desafio Técnico - Semantix/NASA_access_log_Aug95\")\n"
      ],
      "execution_count": 0,
      "outputs": []
    },
    {
      "cell_type": "code",
      "metadata": {
        "id": "Yn2aZLroBl9R",
        "colab_type": "code",
        "colab": {}
      },
      "source": [
        "dfJul = spark.read\\\n",
        "    .format(\"com.databricks.spark.csv\")\\\n",
        "    .option(\"header\", \"false\") \\\n",
        "    .option(\"delimiter\", \" \") \\\n",
        "    .option(\"inferSchema\", \"true\") \\\n",
        "    .load(\"gdrive/My Drive/Desafio Técnico - Semantix/NASA_access_log_Jul95\")"
      ],
      "execution_count": 0,
      "outputs": []
    },
    {
      "cell_type": "code",
      "metadata": {
        "id": "vIPaC8NTIhRU",
        "colab_type": "code",
        "colab": {}
      },
      "source": [
        "df = dfJul.union(dfAug)"
      ],
      "execution_count": 0,
      "outputs": []
    },
    {
      "cell_type": "code",
      "metadata": {
        "id": "z6Sg5arDoI2w",
        "colab_type": "code",
        "colab": {
          "base_uri": "https://localhost:8080/",
          "height": 238
        },
        "outputId": "78cb6a33-eb96-437d-830a-ea70ba6b4c0c"
      },
      "source": [
        "df.show(7)"
      ],
      "execution_count": 9,
      "outputs": [
        {
          "output_type": "stream",
          "text": [
            "+--------------------+---+---+--------------------+------+--------------------+---+----+\n",
            "|                 _c0|_c1|_c2|                 _c3|   _c4|                 _c5|_c6| _c7|\n",
            "+--------------------+---+---+--------------------+------+--------------------+---+----+\n",
            "|        199.72.81.55|  -|  -|[01/Jul/1995:00:0...|-0400]|GET /history/apol...|200|6245|\n",
            "|unicomp6.unicomp.net|  -|  -|[01/Jul/1995:00:0...|-0400]|GET /shuttle/coun...|200|3985|\n",
            "|      199.120.110.21|  -|  -|[01/Jul/1995:00:0...|-0400]|GET /shuttle/miss...|200|4085|\n",
            "|  burger.letters.com|  -|  -|[01/Jul/1995:00:0...|-0400]|GET /shuttle/coun...|304|   0|\n",
            "|      199.120.110.21|  -|  -|[01/Jul/1995:00:0...|-0400]|GET /shuttle/miss...|200|4179|\n",
            "|  burger.letters.com|  -|  -|[01/Jul/1995:00:0...|-0400]|GET /images/NASA-...|304|   0|\n",
            "|  burger.letters.com|  -|  -|[01/Jul/1995:00:0...|-0400]|GET /shuttle/coun...|200|   0|\n",
            "+--------------------+---+---+--------------------+------+--------------------+---+----+\n",
            "only showing top 7 rows\n",
            "\n"
          ],
          "name": "stdout"
        }
      ]
    },
    {
      "cell_type": "code",
      "metadata": {
        "id": "vbWTZ1H8n7Hm",
        "colab_type": "code",
        "colab": {}
      },
      "source": [
        "split_col = f.split(df['_c3'], ':')\n",
        "df = df.withColumn('_c3', split_col.getItem(0))"
      ],
      "execution_count": 0,
      "outputs": []
    },
    {
      "cell_type": "code",
      "metadata": {
        "id": "W_hsfeGJo9Px",
        "colab_type": "code",
        "colab": {}
      },
      "source": [
        "df = df.withColumn('_c3', df['_c3'].substr(2, 11))"
      ],
      "execution_count": 0,
      "outputs": []
    },
    {
      "cell_type": "code",
      "metadata": {
        "id": "w1b084XzJels",
        "colab_type": "code",
        "colab": {}
      },
      "source": [
        "df = df.selectExpr('_c0 as host', '_c3 as date', '_c6 as code', '_c7 as size')"
      ],
      "execution_count": 0,
      "outputs": []
    },
    {
      "cell_type": "code",
      "metadata": {
        "id": "wlWJVZ4oQYSO",
        "colab_type": "code",
        "colab": {
          "base_uri": "https://localhost:8080/",
          "height": 238
        },
        "outputId": "1452ad7a-293f-4956-f6e9-0cc03dfd5ea7"
      },
      "source": [
        "df.show(7)"
      ],
      "execution_count": 13,
      "outputs": [
        {
          "output_type": "stream",
          "text": [
            "+--------------------+-----------+----+----+\n",
            "|                host|       date|code|size|\n",
            "+--------------------+-----------+----+----+\n",
            "|        199.72.81.55|01/Jul/1995| 200|6245|\n",
            "|unicomp6.unicomp.net|01/Jul/1995| 200|3985|\n",
            "|      199.120.110.21|01/Jul/1995| 200|4085|\n",
            "|  burger.letters.com|01/Jul/1995| 304|   0|\n",
            "|      199.120.110.21|01/Jul/1995| 200|4179|\n",
            "|  burger.letters.com|01/Jul/1995| 304|   0|\n",
            "|  burger.letters.com|01/Jul/1995| 200|   0|\n",
            "+--------------------+-----------+----+----+\n",
            "only showing top 7 rows\n",
            "\n"
          ],
          "name": "stdout"
        }
      ]
    },
    {
      "cell_type": "markdown",
      "metadata": {
        "id": "OPSZ7mZtbJkA",
        "colab_type": "text"
      },
      "source": [
        "## **1. Número de hosts únicos.**"
      ]
    },
    {
      "cell_type": "code",
      "metadata": {
        "id": "GqLA-ka9ZQy5",
        "colab_type": "code",
        "outputId": "ed91f81e-c731-43fc-84e8-61f1d5ffc5ed",
        "colab": {
          "base_uri": "https://localhost:8080/",
          "height": 34
        }
      },
      "source": [
        "df.select('host').distinct().count()"
      ],
      "execution_count": 14,
      "outputs": [
        {
          "output_type": "execute_result",
          "data": {
            "text/plain": [
              "137979"
            ]
          },
          "metadata": {
            "tags": []
          },
          "execution_count": 14
        }
      ]
    },
    {
      "cell_type": "markdown",
      "metadata": {
        "id": "ayaRE6fub5vh",
        "colab_type": "text"
      },
      "source": [
        "## **2. O total de erros 404**"
      ]
    },
    {
      "cell_type": "code",
      "metadata": {
        "id": "mKkfkZ9VcAH7",
        "colab_type": "code",
        "outputId": "a09c7eb6-3d23-41bf-dc06-f889fdd80bbd",
        "colab": {
          "base_uri": "https://localhost:8080/",
          "height": 34
        }
      },
      "source": [
        "df.where(df['code'] == \"404\").count()"
      ],
      "execution_count": 15,
      "outputs": [
        {
          "output_type": "execute_result",
          "data": {
            "text/plain": [
              "20871"
            ]
          },
          "metadata": {
            "tags": []
          },
          "execution_count": 15
        }
      ]
    },
    {
      "cell_type": "markdown",
      "metadata": {
        "id": "UHC4D-L9frJH",
        "colab_type": "text"
      },
      "source": [
        "## **3. Os 5 URLs que mais causaram erro 404.**"
      ]
    },
    {
      "cell_type": "code",
      "metadata": {
        "id": "9XU60KzTeQFq",
        "colab_type": "code",
        "outputId": "4ecae0b6-9c0c-407f-d7d8-79f640085c4a",
        "colab": {
          "base_uri": "https://localhost:8080/",
          "height": 204
        }
      },
      "source": [
        "df.where(df['code'] == \"404\").groupBy(\"host\").count().orderBy(\"count\", ascending=False).show(5)"
      ],
      "execution_count": 16,
      "outputs": [
        {
          "output_type": "stream",
          "text": [
            "+--------------------+-----+\n",
            "|                host|count|\n",
            "+--------------------+-----+\n",
            "|hoohoo.ncsa.uiuc.edu|  251|\n",
            "|piweba3y.prodigy.com|  156|\n",
            "|jbiagioni.npt.nuw...|  132|\n",
            "|piweba1y.prodigy.com|  114|\n",
            "|www-d4.proxy.aol.com|   91|\n",
            "+--------------------+-----+\n",
            "only showing top 5 rows\n",
            "\n"
          ],
          "name": "stdout"
        }
      ]
    },
    {
      "cell_type": "markdown",
      "metadata": {
        "id": "HzYsszepxyg1",
        "colab_type": "text"
      },
      "source": [
        "## **4. Quantidade de erros 404 por dia.**"
      ]
    },
    {
      "cell_type": "code",
      "metadata": {
        "id": "rUTfHl7CwKnK",
        "colab_type": "code",
        "colab": {
          "base_uri": "https://localhost:8080/",
          "height": 459
        },
        "outputId": "83d08917-d416-4f11-8e94-17f4936a1bd6"
      },
      "source": [
        "df.where(df['code'] == \"404\").groupBy(\"date\").count().orderBy(\"date\", ascending=True).show()"
      ],
      "execution_count": 17,
      "outputs": [
        {
          "output_type": "stream",
          "text": [
            "+-----------+-----+\n",
            "|       date|count|\n",
            "+-----------+-----+\n",
            "|01/Aug/1995|  243|\n",
            "|01/Jul/1995|  316|\n",
            "|02/Jul/1995|  291|\n",
            "|03/Aug/1995|  303|\n",
            "|03/Jul/1995|  470|\n",
            "|04/Aug/1995|  346|\n",
            "|04/Jul/1995|  359|\n",
            "|05/Aug/1995|  236|\n",
            "|05/Jul/1995|  497|\n",
            "|06/Aug/1995|  373|\n",
            "|06/Jul/1995|  640|\n",
            "|07/Aug/1995|  537|\n",
            "|07/Jul/1995|  569|\n",
            "|08/Aug/1995|  390|\n",
            "|08/Jul/1995|  302|\n",
            "|09/Aug/1995|  279|\n",
            "|09/Jul/1995|  348|\n",
            "|10/Aug/1995|  306|\n",
            "|10/Jul/1995|  398|\n",
            "|11/Aug/1995|  263|\n",
            "+-----------+-----+\n",
            "only showing top 20 rows\n",
            "\n"
          ],
          "name": "stdout"
        }
      ]
    },
    {
      "cell_type": "markdown",
      "metadata": {
        "id": "25Kq90JJf2uS",
        "colab_type": "text"
      },
      "source": [
        "## **5. O total de bytes retornados.**"
      ]
    },
    {
      "cell_type": "code",
      "metadata": {
        "id": "_Emp991Sf7H7",
        "colab_type": "code",
        "outputId": "a9f5a1aa-6756-48e4-def0-fed42b95f785",
        "colab": {
          "base_uri": "https://localhost:8080/",
          "height": 119
        }
      },
      "source": [
        "total = df.groupBy().agg(f.sum('size'))\n",
        "total.withColumn('sum(size)', total['sum(size)'].cast(DecimalType(18, 0))).show()"
      ],
      "execution_count": 18,
      "outputs": [
        {
          "output_type": "stream",
          "text": [
            "+-----------+\n",
            "|  sum(size)|\n",
            "+-----------+\n",
            "|65524319796|\n",
            "+-----------+\n",
            "\n"
          ],
          "name": "stdout"
        }
      ]
    }
  ]
}