{
  "nbformat": 4,
  "nbformat_minor": 0,
  "metadata": {
    "colab": {
      "name": "Desafio Técnico - Semantix.ipynb",
      "provenance": [],
      "collapsed_sections": []
    },
    "kernelspec": {
      "name": "python3",
      "display_name": "Python 3"
    }
  },
  "cells": [
    {
      "cell_type": "markdown",
      "metadata": {
        "id": "j-Nve8o7auvb",
        "colab_type": "text"
      },
      "source": [
        "### **Preparação do ambiente para executar Spark no Google Colab**"
      ]
    },
    {
      "cell_type": "code",
      "metadata": {
        "id": "GI7CifOEVsBi",
        "colab_type": "code",
        "outputId": "a9415c0f-3fd7-486e-a1d4-3d20c276815b",
        "colab": {
          "base_uri": "https://localhost:8080/",
          "height": 68
        }
      },
      "source": [
        "# Configurar o Google Colab para execução do Spark\n",
        "!apt-get install openjdk-8-jdk-headless -qq > /dev/null\n",
        "!wget -q http://www-eu.apache.org/dist/spark/spark-2.4.4/spark-2.4.4-bin-hadoop2.7.tgz\n",
        "!tar xf spark-2.4.4-bin-hadoop2.7.tgz  \n",
        "!pip install -q findspark\n",
        "!pip install -q pyspark"
      ],
      "execution_count": 5,
      "outputs": [
        {
          "output_type": "stream",
          "text": [
            "\u001b[K     |████████████████████████████████| 215.7MB 1.2MB/s \n",
            "\u001b[K     |████████████████████████████████| 204kB 60.1MB/s \n",
            "\u001b[?25h  Building wheel for pyspark (setup.py) ... \u001b[?25l\u001b[?25hdone\n"
          ],
          "name": "stdout"
        }
      ]
    },
    {
      "cell_type": "code",
      "metadata": {
        "id": "lUTeuRRtWYZm",
        "colab_type": "code",
        "colab": {}
      },
      "source": [
        "# Atribuir variáveis de ambiente para o Java e o Spark\n",
        "import os\n",
        "os.environ[\"JAVA_HOME\"] = \"/usr/lib/jvm/java-8-openjdk-amd64\"\n",
        "os.environ[\"SPARK_HOME\"] = \"/content/spark-2.4.4-bin-hadoop2.7\""
      ],
      "execution_count": 0,
      "outputs": []
    },
    {
      "cell_type": "code",
      "metadata": {
        "id": "5ttTMO0xXK3U",
        "colab_type": "code",
        "colab": {}
      },
      "source": [
        "# Importar o FindSpark para localizar a instalação do spark e iniciar uma sessão\n",
        "import findspark\n",
        "findspark.init()\n",
        "from pyspark.sql import SparkSession\n",
        "spark = SparkSession.builder.master(\"local[*]\").getOrCreate()"
      ],
      "execution_count": 0,
      "outputs": []
    },
    {
      "cell_type": "code",
      "metadata": {
        "id": "cn88mu-DN5tR",
        "colab_type": "code",
        "colab": {}
      },
      "source": [
        "import pyspark.sql.functions as f"
      ],
      "execution_count": 0,
      "outputs": []
    },
    {
      "cell_type": "code",
      "metadata": {
        "id": "xaQT6E5iOh_6",
        "colab_type": "code",
        "outputId": "c569a239-e8a8-44ee-b9df-d3e7a6487c6f",
        "colab": {
          "base_uri": "https://localhost:8080/",
          "height": 34
        }
      },
      "source": [
        "from google.colab import drive\n",
        "drive.mount('/content/gdrive')"
      ],
      "execution_count": 27,
      "outputs": [
        {
          "output_type": "stream",
          "text": [
            "Mounted at /content/gdrive\n"
          ],
          "name": "stdout"
        }
      ]
    },
    {
      "cell_type": "code",
      "metadata": {
        "id": "sA3GD_FXOjIY",
        "colab_type": "code",
        "outputId": "d9a47322-cd9f-4005-99bb-61c4c938a9a7",
        "colab": {
          "base_uri": "https://localhost:8080/",
          "height": 68
        }
      },
      "source": [
        "ls -la gdrive/'My Drive'/'Desafio Técnico - Semantix'\n"
      ],
      "execution_count": 28,
      "outputs": [
        {
          "output_type": "stream",
          "text": [
            "total 364313\n",
            "-rw------- 1 root root 167813770 Oct  2 11:37 NASA_access_log_Aug95\n",
            "-rw------- 1 root root 205242368 Oct  2 11:40 NASA_access_log_Jul95\n"
          ],
          "name": "stdout"
        }
      ]
    },
    {
      "cell_type": "code",
      "metadata": {
        "id": "Drgw8oEkTiRf",
        "colab_type": "code",
        "colab": {}
      },
      "source": [
        "#dsAug = spark.read.text(\"gdrive/My Drive/Desafio Técnico - Semantix/NASA_access_log_Aug95\", lineSep=\" \")\n",
        "dfAug = spark.read\\\n",
        "    .format(\"com.databricks.spark.csv\")\\\n",
        "    .option(\"header\", \"false\") \\\n",
        "    .option(\"delimiter\", \" \") \\\n",
        "    .option(\"inferSchema\", \"true\") \\\n",
        "    .load(\"gdrive/My Drive/Desafio Técnico - Semantix/NASA_access_log_Aug95\")\n"
      ],
      "execution_count": 0,
      "outputs": []
    },
    {
      "cell_type": "code",
      "metadata": {
        "id": "Yn2aZLroBl9R",
        "colab_type": "code",
        "colab": {}
      },
      "source": [
        "dfJul = spark.read\\\n",
        "    .format(\"com.databricks.spark.csv\")\\\n",
        "    .option(\"header\", \"false\") \\\n",
        "    .option(\"delimiter\", \" \") \\\n",
        "    .option(\"inferSchema\", \"true\") \\\n",
        "    .load(\"gdrive/My Drive/Desafio Técnico - Semantix/NASA_access_log_Jul95\")"
      ],
      "execution_count": 0,
      "outputs": []
    },
    {
      "cell_type": "code",
      "metadata": {
        "id": "vIPaC8NTIhRU",
        "colab_type": "code",
        "colab": {}
      },
      "source": [
        "df = dfJul.union(dfAug)"
      ],
      "execution_count": 0,
      "outputs": []
    },
    {
      "cell_type": "code",
      "metadata": {
        "id": "w1b084XzJels",
        "colab_type": "code",
        "colab": {}
      },
      "source": [
        "df.createTempView(\"tbl_logs\")\n"
      ],
      "execution_count": 0,
      "outputs": []
    },
    {
      "cell_type": "code",
      "metadata": {
        "id": "wlWJVZ4oQYSO",
        "colab_type": "code",
        "colab": {}
      },
      "source": [
        "df2 = spark.sql(\"SELECT _c0 as Host, _c3 as Data, _c5 as Urls,_c6 as retorno, _c7 as byte FROM tbl_logs\")"
      ],
      "execution_count": 0,
      "outputs": []
    },
    {
      "cell_type": "code",
      "metadata": {
        "id": "oj5awLhOVJ0J",
        "colab_type": "code",
        "colab": {}
      },
      "source": [
        "qtde_hosts_unicos = df2.select(\"Host\").distinct().count()\n",
        "#df.select(\"some_column\").distinct.count"
      ],
      "execution_count": 0,
      "outputs": []
    },
    {
      "cell_type": "markdown",
      "metadata": {
        "id": "OPSZ7mZtbJkA",
        "colab_type": "text"
      },
      "source": [
        "## **1. Número de hosts únicos.**"
      ]
    },
    {
      "cell_type": "code",
      "metadata": {
        "id": "GqLA-ka9ZQy5",
        "colab_type": "code",
        "colab": {
          "base_uri": "https://localhost:8080/",
          "height": 34
        },
        "outputId": "29573dfc-8309-497c-f07f-43ff827b340d"
      },
      "source": [
        "f\"Hosts distintos: {qtde_hosts_unicos}\""
      ],
      "execution_count": 87,
      "outputs": [
        {
          "output_type": "execute_result",
          "data": {
            "text/plain": [
              "'Hosts distintos: 137979'"
            ]
          },
          "metadata": {
            "tags": []
          },
          "execution_count": 87
        }
      ]
    },
    {
      "cell_type": "markdown",
      "metadata": {
        "id": "ayaRE6fub5vh",
        "colab_type": "text"
      },
      "source": [
        "## **2. O total de erros 404**"
      ]
    },
    {
      "cell_type": "code",
      "metadata": {
        "id": "mKkfkZ9VcAH7",
        "colab_type": "code",
        "colab": {
          "base_uri": "https://localhost:8080/",
          "height": 34
        },
        "outputId": "01303125-3fff-4fbb-fe0b-8b54f2439913"
      },
      "source": [
        "df2.where(df2['retorno'] == \"404\").count()"
      ],
      "execution_count": 93,
      "outputs": [
        {
          "output_type": "execute_result",
          "data": {
            "text/plain": [
              "20871"
            ]
          },
          "metadata": {
            "tags": []
          },
          "execution_count": 93
        }
      ]
    },
    {
      "cell_type": "markdown",
      "metadata": {
        "id": "UHC4D-L9frJH",
        "colab_type": "text"
      },
      "source": [
        "## **3. Os 5 URLs que mais causaram erro 404.**"
      ]
    },
    {
      "cell_type": "code",
      "metadata": {
        "id": "9XU60KzTeQFq",
        "colab_type": "code",
        "colab": {
          "base_uri": "https://localhost:8080/",
          "height": 204
        },
        "outputId": "b2159b00-9813-4637-b86b-df27540e8f11"
      },
      "source": [
        "df2.where(df2['retorno'] == \"404\").groupBy(\"Host\",\"retorno\").count().orderBy(\"count\", ascending=False).show(5)"
      ],
      "execution_count": 95,
      "outputs": [
        {
          "output_type": "stream",
          "text": [
            "+--------------------+-------+-----+\n",
            "|                Host|retorno|count|\n",
            "+--------------------+-------+-----+\n",
            "|hoohoo.ncsa.uiuc.edu|    404|  251|\n",
            "|piweba3y.prodigy.com|    404|  156|\n",
            "|jbiagioni.npt.nuw...|    404|  132|\n",
            "|piweba1y.prodigy.com|    404|  114|\n",
            "|www-d4.proxy.aol.com|    404|   91|\n",
            "+--------------------+-------+-----+\n",
            "only showing top 5 rows\n",
            "\n"
          ],
          "name": "stdout"
        }
      ]
    },
    {
      "cell_type": "markdown",
      "metadata": {
        "id": "25Kq90JJf2uS",
        "colab_type": "text"
      },
      "source": [
        "## **5. O total de bytes retornados.**"
      ]
    },
    {
      "cell_type": "code",
      "metadata": {
        "id": "_Emp991Sf7H7",
        "colab_type": "code",
        "colab": {
          "base_uri": "https://localhost:8080/",
          "height": 119
        },
        "outputId": "95c5f091-375c-41b0-bbf3-f5b79a7c60ef"
      },
      "source": [
        "df2.groupBy().agg(f.sum('byte')).show()\n",
        "\n",
        "#df.groupBy().agg(F.sum('Number')).show()"
      ],
      "execution_count": 104,
      "outputs": [
        {
          "output_type": "stream",
          "text": [
            "+---------------+\n",
            "|      sum(byte)|\n",
            "+---------------+\n",
            "|6.5524319796E10|\n",
            "+---------------+\n",
            "\n"
          ],
          "name": "stdout"
        }
      ]
    }
  ]
}